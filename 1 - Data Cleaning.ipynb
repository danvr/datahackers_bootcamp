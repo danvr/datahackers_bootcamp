{
 "cells": [
  {
   "cell_type": "markdown",
   "metadata": {},
   "source": [
    "# Bootcamp Data Hackers\n",
    "\n",
    "## Dia 1 Data Cleaning\n"
   ]
  },
  {
   "cell_type": "markdown",
   "metadata": {},
   "source": [
    "# **Linguagem Markdown**\n",
    "\n",
    "\n",
    "# Titulo 1\n",
    "\n",
    "## Sub Titulo 1\n",
    "\n",
    "**Texto em Negrito**\n",
    "\n",
    "*Texto em Italico*\n",
    "\n",
    "[Imagem](https://static.politico.com/da/f5/44342c424c68b675719324b1106b/politico.jpg)"
   ]
  },
  {
   "cell_type": "code",
   "execution_count": 1,
   "metadata": {},
   "outputs": [],
   "source": [
    "# importanto bibliotecas\n",
    "import pandas as pd\n",
    "import pandas_profiling as pf"
   ]
  },
  {
   "cell_type": "code",
   "execution_count": 2,
   "metadata": {},
   "outputs": [
    {
     "data": {
      "text/html": [
       "<div>\n",
       "<style scoped>\n",
       "    .dataframe tbody tr th:only-of-type {\n",
       "        vertical-align: middle;\n",
       "    }\n",
       "\n",
       "    .dataframe tbody tr th {\n",
       "        vertical-align: top;\n",
       "    }\n",
       "\n",
       "    .dataframe thead th {\n",
       "        text-align: right;\n",
       "    }\n",
       "</style>\n",
       "<table border=\"1\" class=\"dataframe\">\n",
       "  <thead>\n",
       "    <tr style=\"text-align: right;\">\n",
       "      <th></th>\n",
       "      <th>ANO</th>\n",
       "      <th>MES</th>\n",
       "      <th>SENADOR</th>\n",
       "      <th>TIPO_DESPESA</th>\n",
       "      <th>CNPJ_CPF</th>\n",
       "      <th>FORNECEDOR</th>\n",
       "      <th>DOCUMENTO</th>\n",
       "      <th>DATA</th>\n",
       "      <th>DETALHAMENTO</th>\n",
       "      <th>VALOR_REEMBOLSADO</th>\n",
       "    </tr>\n",
       "  </thead>\n",
       "  <tbody>\n",
       "    <tr>\n",
       "      <th>0</th>\n",
       "      <td>2016</td>\n",
       "      <td>1</td>\n",
       "      <td>ACIR GURGACZ</td>\n",
       "      <td>Aluguel de imóveis para escritório político, c...</td>\n",
       "      <td>05.914.650/0001-66</td>\n",
       "      <td>ELETROBRÁS DISTRIBUIÇÃO RONDÔNIA</td>\n",
       "      <td>000011328</td>\n",
       "      <td>13/01/2016</td>\n",
       "      <td>Despesa com pagamento de energia elétrica para...</td>\n",
       "      <td>73,6</td>\n",
       "    </tr>\n",
       "    <tr>\n",
       "      <th>1</th>\n",
       "      <td>2016</td>\n",
       "      <td>1</td>\n",
       "      <td>ACIR GURGACZ</td>\n",
       "      <td>Aluguel de imóveis para escritório político, c...</td>\n",
       "      <td>05.914.650/0001-66</td>\n",
       "      <td>ELETROBRÁS DISTRIBUIÇÃO RONDÔNIA</td>\n",
       "      <td>000011327</td>\n",
       "      <td>18/01/2016</td>\n",
       "      <td>Pagamento de energia elétrica para o escritóri...</td>\n",
       "      <td>206,84</td>\n",
       "    </tr>\n",
       "    <tr>\n",
       "      <th>2</th>\n",
       "      <td>2016</td>\n",
       "      <td>1</td>\n",
       "      <td>ACIR GURGACZ</td>\n",
       "      <td>Aluguel de imóveis para escritório político, c...</td>\n",
       "      <td>004.948.028-63</td>\n",
       "      <td>GILBERTO PISELO DO NASCIMENTO</td>\n",
       "      <td>001/16</td>\n",
       "      <td>04/01/2016</td>\n",
       "      <td>Despesa com pagamento de aluguel, utilizado pa...</td>\n",
       "      <td>6000</td>\n",
       "    </tr>\n",
       "    <tr>\n",
       "      <th>3</th>\n",
       "      <td>2016</td>\n",
       "      <td>1</td>\n",
       "      <td>ACIR GURGACZ</td>\n",
       "      <td>Aluguel de imóveis para escritório político, c...</td>\n",
       "      <td>05.423.963/0001-11</td>\n",
       "      <td>OI MÓVEL S.A.</td>\n",
       "      <td>661639001</td>\n",
       "      <td>16/01/2016</td>\n",
       "      <td>despesa com pagamento de telefonia para o escr...</td>\n",
       "      <td>407,48</td>\n",
       "    </tr>\n",
       "    <tr>\n",
       "      <th>4</th>\n",
       "      <td>2016</td>\n",
       "      <td>1</td>\n",
       "      <td>ACIR GURGACZ</td>\n",
       "      <td>Aquisição de material de consumo para uso no e...</td>\n",
       "      <td>62.652.961/0001-38</td>\n",
       "      <td>AGÊNCIA ESTADO S.A.</td>\n",
       "      <td>00608918</td>\n",
       "      <td>06/01/2016</td>\n",
       "      <td>Aquisição de publicação virtual de conteúdo jo...</td>\n",
       "      <td>550</td>\n",
       "    </tr>\n",
       "  </tbody>\n",
       "</table>\n",
       "</div>"
      ],
      "text/plain": [
       "    ANO  MES       SENADOR                                       TIPO_DESPESA  \\\n",
       "0  2016    1  ACIR GURGACZ  Aluguel de imóveis para escritório político, c...   \n",
       "1  2016    1  ACIR GURGACZ  Aluguel de imóveis para escritório político, c...   \n",
       "2  2016    1  ACIR GURGACZ  Aluguel de imóveis para escritório político, c...   \n",
       "3  2016    1  ACIR GURGACZ  Aluguel de imóveis para escritório político, c...   \n",
       "4  2016    1  ACIR GURGACZ  Aquisição de material de consumo para uso no e...   \n",
       "\n",
       "             CNPJ_CPF                        FORNECEDOR  DOCUMENTO  \\\n",
       "0  05.914.650/0001-66  ELETROBRÁS DISTRIBUIÇÃO RONDÔNIA  000011328   \n",
       "1  05.914.650/0001-66  ELETROBRÁS DISTRIBUIÇÃO RONDÔNIA  000011327   \n",
       "2      004.948.028-63     GILBERTO PISELO DO NASCIMENTO     001/16   \n",
       "3  05.423.963/0001-11                     OI MÓVEL S.A.  661639001   \n",
       "4  62.652.961/0001-38               AGÊNCIA ESTADO S.A.   00608918   \n",
       "\n",
       "         DATA                                       DETALHAMENTO  \\\n",
       "0  13/01/2016  Despesa com pagamento de energia elétrica para...   \n",
       "1  18/01/2016  Pagamento de energia elétrica para o escritóri...   \n",
       "2  04/01/2016  Despesa com pagamento de aluguel, utilizado pa...   \n",
       "3  16/01/2016  despesa com pagamento de telefonia para o escr...   \n",
       "4  06/01/2016  Aquisição de publicação virtual de conteúdo jo...   \n",
       "\n",
       "  VALOR_REEMBOLSADO  \n",
       "0              73,6  \n",
       "1            206,84  \n",
       "2              6000  \n",
       "3            407,48  \n",
       "4               550  "
      ]
     },
     "execution_count": 2,
     "metadata": {},
     "output_type": "execute_result"
    }
   ],
   "source": [
    "# carregando dados\n",
    "df = pd.read_csv('ceaps_dataset.csv',skiprows=1,delimiter = ';',encoding = 'latin1')\n",
    "# primeira 5 linhas do dataset\n",
    "df.head()"
   ]
  },
  {
   "cell_type": "code",
   "execution_count": 3,
   "metadata": {},
   "outputs": [
    {
     "data": {
      "text/html": [
       "<div>\n",
       "<style scoped>\n",
       "    .dataframe tbody tr th:only-of-type {\n",
       "        vertical-align: middle;\n",
       "    }\n",
       "\n",
       "    .dataframe tbody tr th {\n",
       "        vertical-align: top;\n",
       "    }\n",
       "\n",
       "    .dataframe thead th {\n",
       "        text-align: right;\n",
       "    }\n",
       "</style>\n",
       "<table border=\"1\" class=\"dataframe\">\n",
       "  <thead>\n",
       "    <tr style=\"text-align: right;\">\n",
       "      <th></th>\n",
       "      <th>ANO</th>\n",
       "      <th>MES</th>\n",
       "      <th>SENADOR</th>\n",
       "      <th>TIPO_DESPESA</th>\n",
       "      <th>CNPJ_CPF</th>\n",
       "      <th>FORNECEDOR</th>\n",
       "      <th>DOCUMENTO</th>\n",
       "      <th>DATA</th>\n",
       "      <th>DETALHAMENTO</th>\n",
       "      <th>VALOR_REEMBOLSADO</th>\n",
       "    </tr>\n",
       "  </thead>\n",
       "  <tbody>\n",
       "    <tr>\n",
       "      <th>26686</th>\n",
       "      <td>2016</td>\n",
       "      <td>12</td>\n",
       "      <td>ZEZÉ PERRELLA</td>\n",
       "      <td>Locomoção, hospedagem, alimentação, combustíve...</td>\n",
       "      <td>01.245.727/0001-00</td>\n",
       "      <td>Trevo Posto de Serviços Ltda</td>\n",
       "      <td>083555</td>\n",
       "      <td>23/12/2016</td>\n",
       "      <td>NaN</td>\n",
       "      <td>183,4</td>\n",
       "    </tr>\n",
       "    <tr>\n",
       "      <th>26687</th>\n",
       "      <td>2016</td>\n",
       "      <td>12</td>\n",
       "      <td>ZEZÉ PERRELLA</td>\n",
       "      <td>Locomoção, hospedagem, alimentação, combustíve...</td>\n",
       "      <td>01.245.727/0001-00</td>\n",
       "      <td>Trevo Posto de Serviços Ltda</td>\n",
       "      <td>084787</td>\n",
       "      <td>26/12/2016</td>\n",
       "      <td>NaN</td>\n",
       "      <td>50</td>\n",
       "    </tr>\n",
       "    <tr>\n",
       "      <th>26688</th>\n",
       "      <td>2016</td>\n",
       "      <td>12</td>\n",
       "      <td>ZEZÉ PERRELLA</td>\n",
       "      <td>Passagens aéreas, aquáticas e terrestres nacio...</td>\n",
       "      <td>09.296.295/0001-60</td>\n",
       "      <td>Azul</td>\n",
       "      <td>QGIJ8X</td>\n",
       "      <td>07/12/2016</td>\n",
       "      <td>Companhia Aérea: AZUL, Localizador: QGIJ8X. Pa...</td>\n",
       "      <td>1055,41</td>\n",
       "    </tr>\n",
       "    <tr>\n",
       "      <th>26689</th>\n",
       "      <td>2016</td>\n",
       "      <td>12</td>\n",
       "      <td>ZEZÉ PERRELLA</td>\n",
       "      <td>Passagens aéreas, aquáticas e terrestres nacio...</td>\n",
       "      <td>21.443.582/0001-50</td>\n",
       "      <td>Pronto Produção de Eventos e Turismo Ltda</td>\n",
       "      <td>S6ZB6L</td>\n",
       "      <td>12/12/2016</td>\n",
       "      <td>Companhia Aérea: AZUL, Localizador: S6ZB6L. Pa...</td>\n",
       "      <td>390,18</td>\n",
       "    </tr>\n",
       "    <tr>\n",
       "      <th>26690</th>\n",
       "      <td>2016</td>\n",
       "      <td>12</td>\n",
       "      <td>ZEZÉ PERRELLA</td>\n",
       "      <td>Passagens aéreas, aquáticas e terrestres nacio...</td>\n",
       "      <td>21.443.582/0001-50</td>\n",
       "      <td>Pronto Produção de Eventos e Turismo Ltda</td>\n",
       "      <td>ZDS6KY</td>\n",
       "      <td>12/12/2016</td>\n",
       "      <td>Companhia Aérea: GOL, Localizador: ZDS6KY. Pas...</td>\n",
       "      <td>654,28</td>\n",
       "    </tr>\n",
       "  </tbody>\n",
       "</table>\n",
       "</div>"
      ],
      "text/plain": [
       "        ANO  MES        SENADOR  \\\n",
       "26686  2016   12  ZEZÉ PERRELLA   \n",
       "26687  2016   12  ZEZÉ PERRELLA   \n",
       "26688  2016   12  ZEZÉ PERRELLA   \n",
       "26689  2016   12  ZEZÉ PERRELLA   \n",
       "26690  2016   12  ZEZÉ PERRELLA   \n",
       "\n",
       "                                            TIPO_DESPESA            CNPJ_CPF  \\\n",
       "26686  Locomoção, hospedagem, alimentação, combustíve...  01.245.727/0001-00   \n",
       "26687  Locomoção, hospedagem, alimentação, combustíve...  01.245.727/0001-00   \n",
       "26688  Passagens aéreas, aquáticas e terrestres nacio...  09.296.295/0001-60   \n",
       "26689  Passagens aéreas, aquáticas e terrestres nacio...  21.443.582/0001-50   \n",
       "26690  Passagens aéreas, aquáticas e terrestres nacio...  21.443.582/0001-50   \n",
       "\n",
       "                                      FORNECEDOR DOCUMENTO        DATA  \\\n",
       "26686               Trevo Posto de Serviços Ltda    083555  23/12/2016   \n",
       "26687               Trevo Posto de Serviços Ltda    084787  26/12/2016   \n",
       "26688                                       Azul    QGIJ8X  07/12/2016   \n",
       "26689  Pronto Produção de Eventos e Turismo Ltda    S6ZB6L  12/12/2016   \n",
       "26690  Pronto Produção de Eventos e Turismo Ltda    ZDS6KY  12/12/2016   \n",
       "\n",
       "                                            DETALHAMENTO VALOR_REEMBOLSADO  \n",
       "26686                                                NaN             183,4  \n",
       "26687                                                NaN                50  \n",
       "26688  Companhia Aérea: AZUL, Localizador: QGIJ8X. Pa...           1055,41  \n",
       "26689  Companhia Aérea: AZUL, Localizador: S6ZB6L. Pa...            390,18  \n",
       "26690  Companhia Aérea: GOL, Localizador: ZDS6KY. Pas...            654,28  "
      ]
     },
     "execution_count": 3,
     "metadata": {},
     "output_type": "execute_result"
    }
   ],
   "source": [
    "# ultimas 5 linhas do dataset\n",
    "df.tail()"
   ]
  },
  {
   "cell_type": "code",
   "execution_count": 4,
   "metadata": {},
   "outputs": [
    {
     "data": {
      "text/plain": [
       "ANO                   int64\n",
       "MES                   int64\n",
       "SENADOR              object\n",
       "TIPO_DESPESA         object\n",
       "CNPJ_CPF             object\n",
       "FORNECEDOR           object\n",
       "DOCUMENTO            object\n",
       "DATA                 object\n",
       "DETALHAMENTO         object\n",
       "VALOR_REEMBOLSADO    object\n",
       "dtype: object"
      ]
     },
     "execution_count": 4,
     "metadata": {},
     "output_type": "execute_result"
    }
   ],
   "source": [
    "# verificando os tipos das variáveis\n",
    "df.dtypes"
   ]
  },
  {
   "cell_type": "code",
   "execution_count": 5,
   "metadata": {},
   "outputs": [
    {
     "name": "stdout",
     "output_type": "stream",
     "text": [
      "<class 'pandas.core.frame.DataFrame'>\n",
      "RangeIndex: 26691 entries, 0 to 26690\n",
      "Data columns (total 10 columns):\n",
      "ANO                  26691 non-null int64\n",
      "MES                  26691 non-null int64\n",
      "SENADOR              26691 non-null object\n",
      "TIPO_DESPESA         26691 non-null object\n",
      "CNPJ_CPF             26691 non-null object\n",
      "FORNECEDOR           26691 non-null object\n",
      "DOCUMENTO            24647 non-null object\n",
      "DATA                 26691 non-null object\n",
      "DETALHAMENTO         21308 non-null object\n",
      "VALOR_REEMBOLSADO    26691 non-null object\n",
      "dtypes: int64(2), object(8)\n",
      "memory usage: 2.0+ MB\n"
     ]
    }
   ],
   "source": [
    "# funcão alternativa para verificar os tipos de variáveis\n",
    "# verificar quanto completo está as variáveis\n",
    "df.info()"
   ]
  },
  {
   "cell_type": "code",
   "execution_count": 6,
   "metadata": {
    "scrolled": true
   },
   "outputs": [
    {
     "data": {
      "text/html": [
       "<div>\n",
       "<style scoped>\n",
       "    .dataframe tbody tr th:only-of-type {\n",
       "        vertical-align: middle;\n",
       "    }\n",
       "\n",
       "    .dataframe tbody tr th {\n",
       "        vertical-align: top;\n",
       "    }\n",
       "\n",
       "    .dataframe thead th {\n",
       "        text-align: right;\n",
       "    }\n",
       "</style>\n",
       "<table border=\"1\" class=\"dataframe\">\n",
       "  <thead>\n",
       "    <tr style=\"text-align: right;\">\n",
       "      <th></th>\n",
       "      <th>ANO</th>\n",
       "      <th>MES</th>\n",
       "    </tr>\n",
       "  </thead>\n",
       "  <tbody>\n",
       "    <tr>\n",
       "      <th>count</th>\n",
       "      <td>26691.0</td>\n",
       "      <td>26691.000000</td>\n",
       "    </tr>\n",
       "    <tr>\n",
       "      <th>mean</th>\n",
       "      <td>2016.0</td>\n",
       "      <td>6.470908</td>\n",
       "    </tr>\n",
       "    <tr>\n",
       "      <th>std</th>\n",
       "      <td>0.0</td>\n",
       "      <td>3.257134</td>\n",
       "    </tr>\n",
       "    <tr>\n",
       "      <th>min</th>\n",
       "      <td>2016.0</td>\n",
       "      <td>1.000000</td>\n",
       "    </tr>\n",
       "    <tr>\n",
       "      <th>25%</th>\n",
       "      <td>2016.0</td>\n",
       "      <td>4.000000</td>\n",
       "    </tr>\n",
       "    <tr>\n",
       "      <th>50%</th>\n",
       "      <td>2016.0</td>\n",
       "      <td>6.000000</td>\n",
       "    </tr>\n",
       "    <tr>\n",
       "      <th>75%</th>\n",
       "      <td>2016.0</td>\n",
       "      <td>9.000000</td>\n",
       "    </tr>\n",
       "    <tr>\n",
       "      <th>max</th>\n",
       "      <td>2016.0</td>\n",
       "      <td>12.000000</td>\n",
       "    </tr>\n",
       "  </tbody>\n",
       "</table>\n",
       "</div>"
      ],
      "text/plain": [
       "           ANO           MES\n",
       "count  26691.0  26691.000000\n",
       "mean    2016.0      6.470908\n",
       "std        0.0      3.257134\n",
       "min     2016.0      1.000000\n",
       "25%     2016.0      4.000000\n",
       "50%     2016.0      6.000000\n",
       "75%     2016.0      9.000000\n",
       "max     2016.0     12.000000"
      ]
     },
     "execution_count": 6,
     "metadata": {},
     "output_type": "execute_result"
    }
   ],
   "source": [
    "# estatística descritiva dos dados numéricos\n",
    "df.describe()"
   ]
  },
  {
   "cell_type": "code",
   "execution_count": 7,
   "metadata": {
    "scrolled": true
   },
   "outputs": [],
   "source": [
    "# substituindo \"virgula\" por \"ponto\"\n",
    "df['VALOR_REEMBOLSADO'] = df['VALOR_REEMBOLSADO'].str.replace(',','.')\n",
    "# alterando o tipo da variavel para numerico\n",
    "df['VALOR_REEMBOLSADO'] = pd.to_numeric(df['VALOR_REEMBOLSADO'])"
   ]
  },
  {
   "cell_type": "code",
   "execution_count": 8,
   "metadata": {},
   "outputs": [
    {
     "data": {
      "text/html": [
       "<div>\n",
       "<style scoped>\n",
       "    .dataframe tbody tr th:only-of-type {\n",
       "        vertical-align: middle;\n",
       "    }\n",
       "\n",
       "    .dataframe tbody tr th {\n",
       "        vertical-align: top;\n",
       "    }\n",
       "\n",
       "    .dataframe thead th {\n",
       "        text-align: right;\n",
       "    }\n",
       "</style>\n",
       "<table border=\"1\" class=\"dataframe\">\n",
       "  <thead>\n",
       "    <tr style=\"text-align: right;\">\n",
       "      <th></th>\n",
       "      <th>ANO</th>\n",
       "      <th>MES</th>\n",
       "      <th>VALOR_REEMBOLSADO</th>\n",
       "    </tr>\n",
       "  </thead>\n",
       "  <tbody>\n",
       "    <tr>\n",
       "      <th>count</th>\n",
       "      <td>26691.0</td>\n",
       "      <td>26691.000000</td>\n",
       "      <td>26691.000000</td>\n",
       "    </tr>\n",
       "    <tr>\n",
       "      <th>mean</th>\n",
       "      <td>2016.0</td>\n",
       "      <td>6.470908</td>\n",
       "      <td>947.484513</td>\n",
       "    </tr>\n",
       "    <tr>\n",
       "      <th>std</th>\n",
       "      <td>0.0</td>\n",
       "      <td>3.257134</td>\n",
       "      <td>2733.820037</td>\n",
       "    </tr>\n",
       "    <tr>\n",
       "      <th>min</th>\n",
       "      <td>2016.0</td>\n",
       "      <td>1.000000</td>\n",
       "      <td>0.010000</td>\n",
       "    </tr>\n",
       "    <tr>\n",
       "      <th>25%</th>\n",
       "      <td>2016.0</td>\n",
       "      <td>4.000000</td>\n",
       "      <td>124.000000</td>\n",
       "    </tr>\n",
       "    <tr>\n",
       "      <th>50%</th>\n",
       "      <td>2016.0</td>\n",
       "      <td>6.000000</td>\n",
       "      <td>324.790000</td>\n",
       "    </tr>\n",
       "    <tr>\n",
       "      <th>75%</th>\n",
       "      <td>2016.0</td>\n",
       "      <td>9.000000</td>\n",
       "      <td>956.865000</td>\n",
       "    </tr>\n",
       "    <tr>\n",
       "      <th>max</th>\n",
       "      <td>2016.0</td>\n",
       "      <td>12.000000</td>\n",
       "      <td>256980.000000</td>\n",
       "    </tr>\n",
       "  </tbody>\n",
       "</table>\n",
       "</div>"
      ],
      "text/plain": [
       "           ANO           MES  VALOR_REEMBOLSADO\n",
       "count  26691.0  26691.000000       26691.000000\n",
       "mean    2016.0      6.470908         947.484513\n",
       "std        0.0      3.257134        2733.820037\n",
       "min     2016.0      1.000000           0.010000\n",
       "25%     2016.0      4.000000         124.000000\n",
       "50%     2016.0      6.000000         324.790000\n",
       "75%     2016.0      9.000000         956.865000\n",
       "max     2016.0     12.000000      256980.000000"
      ]
     },
     "execution_count": 8,
     "metadata": {},
     "output_type": "execute_result"
    }
   ],
   "source": [
    "# variável 'VALOR_REEMBOLSADO' sera exibida agora\n",
    "df.describe()"
   ]
  },
  {
   "cell_type": "code",
   "execution_count": 9,
   "metadata": {},
   "outputs": [],
   "source": [
    "# corrigindo manualmente as datas\n",
    "df['DATA'] = df['DATA'].str.replace('20/07/5017','20/07/2017')\n",
    "df['DATA'] = df['DATA'].str.replace('02/04/3016','02/07/2016')\n",
    "df['DATA'] = df['DATA'].str.replace('04/04/216','04/04/2016')"
   ]
  },
  {
   "cell_type": "code",
   "execution_count": 10,
   "metadata": {},
   "outputs": [],
   "source": [
    " # criando para para correção\n",
    "map_data = {'20/07/5017':'20/07/2017',\n",
    "            '02/04/3016':'02/07/2016',\n",
    "            '04/04/216': '04/04/2016',\n",
    "            '04/04/0216': '04/04/2016',\n",
    "            '31/10/0200': '31/10/2016',\n",
    "            '31/10/0206':'31/10/2016'}"
   ]
  },
  {
   "cell_type": "code",
   "execution_count": 11,
   "metadata": {},
   "outputs": [],
   "source": [
    "# aplizando o mapeamento para ser mais agil e elegante\n",
    "df['DATA'] = df['DATA'].map(map_data)"
   ]
  },
  {
   "cell_type": "code",
   "execution_count": 12,
   "metadata": {},
   "outputs": [],
   "source": [
    "# alterando a variável \"DATA\" para datetime\n",
    "df['DATA'] = pd.to_datetime(df['DATA'],errors = 'coerce')"
   ]
  },
  {
   "cell_type": "code",
   "execution_count": 13,
   "metadata": {},
   "outputs": [],
   "source": [
    "# removendo as linhas ausentes da variável \"DATA\"\n",
    "df.dropna(subset = ['DATA'],inplace = True)"
   ]
  },
  {
   "cell_type": "code",
   "execution_count": 14,
   "metadata": {
    "scrolled": true
   },
   "outputs": [
    {
     "data": {
      "text/plain": [
       "array(['Locomoção, hospedagem, alimentação, combustíveis e lubrificantes',\n",
       "       'Passagens aéreas, aquáticas e terrestres nacionais'], dtype=object)"
      ]
     },
     "execution_count": 14,
     "metadata": {},
     "output_type": "execute_result"
    }
   ],
   "source": [
    "# visualizando observações únicas na variável 'TIPO_DESPESA'\n",
    "df['TIPO_DESPESA'].unique()"
   ]
  },
  {
   "cell_type": "code",
   "execution_count": 15,
   "metadata": {},
   "outputs": [],
   "source": [
    "# criando mapa para criar categorias para as observações únicas\n",
    "mapper = {'Aluguel de imóveis para escritório político, compreendendo despesas concernentes a eles.':'Alugel',\n",
    "          'Aquisição de material de consumo para uso no escritório político, inclusive aquisição ou locação de software, despesas postais, aquisição de publicações, locação de móveis e de equipamentos. ':'Locação',\n",
    "          'Contratação de consultorias, assessorias, pesquisas, trabalhos técnicos e outros serviços de apoio ao exercício do mandato parlamentar':'Contratação',\n",
    "          'Locomoção, hospedagem, alimentação, combustíveis e lubrificantes':'Logistica',\n",
    "          'Passagens aéreas, aquáticas e terrestres nacionais':'Passagens',\n",
    "          'Divulgação da atividade parlamentar':'Divulgações',\n",
    "          'Serviços de Segurança Privada':'Segurança'}\n"
   ]
  },
  {
   "cell_type": "code",
   "execution_count": 16,
   "metadata": {},
   "outputs": [],
   "source": [
    "# aplicando o mapemento para sbustituir conforme o mapa criado anteriormente\n",
    "df[\"TIPO_DESPESA\"] = df['TIPO_DESPESA'].map(mapper)"
   ]
  },
  {
   "cell_type": "code",
   "execution_count": 17,
   "metadata": {},
   "outputs": [
    {
     "data": {
      "text/plain": [
       "Logistica    2\n",
       "Passagens    1\n",
       "Name: TIPO_DESPESA, dtype: int64"
      ]
     },
     "execution_count": 17,
     "metadata": {},
     "output_type": "execute_result"
    }
   ],
   "source": [
    "# verificando o resultado da limpeza contando as observações únicas\n",
    "df['TIPO_DESPESA'].value_counts(dropna = False)"
   ]
  },
  {
   "cell_type": "code",
   "execution_count": 18,
   "metadata": {},
   "outputs": [
    {
     "data": {
      "text/html": [
       "<div>\n",
       "<style scoped>\n",
       "    .dataframe tbody tr th:only-of-type {\n",
       "        vertical-align: middle;\n",
       "    }\n",
       "\n",
       "    .dataframe tbody tr th {\n",
       "        vertical-align: top;\n",
       "    }\n",
       "\n",
       "    .dataframe thead th {\n",
       "        text-align: right;\n",
       "    }\n",
       "</style>\n",
       "<table border=\"1\" class=\"dataframe\">\n",
       "  <thead>\n",
       "    <tr style=\"text-align: right;\">\n",
       "      <th></th>\n",
       "      <th>ANO</th>\n",
       "      <th>MES</th>\n",
       "      <th>SENADOR</th>\n",
       "      <th>TIPO_DESPESA</th>\n",
       "      <th>CNPJ_CPF</th>\n",
       "      <th>FORNECEDOR</th>\n",
       "      <th>DOCUMENTO</th>\n",
       "      <th>DATA</th>\n",
       "      <th>DETALHAMENTO</th>\n",
       "      <th>VALOR_REEMBOLSADO</th>\n",
       "    </tr>\n",
       "  </thead>\n",
       "  <tbody>\n",
       "  </tbody>\n",
       "</table>\n",
       "</div>"
      ],
      "text/plain": [
       "Empty DataFrame\n",
       "Columns: [ANO, MES, SENADOR, TIPO_DESPESA, CNPJ_CPF, FORNECEDOR, DOCUMENTO, DATA, DETALHAMENTO, VALOR_REEMBOLSADO]\n",
       "Index: []"
      ]
     },
     "execution_count": 18,
     "metadata": {},
     "output_type": "execute_result"
    }
   ],
   "source": [
    "# verificando dados faltantes\n",
    "df[df['TIPO_DESPESA'].isnull()]"
   ]
  },
  {
   "cell_type": "code",
   "execution_count": 19,
   "metadata": {},
   "outputs": [],
   "source": [
    "# criando variável 'DAY' extraindo o dia da variável 'DATA'\n",
    "df['DAY'] = df.DATA.dt.day"
   ]
  },
  {
   "cell_type": "code",
   "execution_count": 20,
   "metadata": {},
   "outputs": [
    {
     "data": {
      "text/plain": [
       "ANO                           int64\n",
       "MES                           int64\n",
       "SENADOR                      object\n",
       "TIPO_DESPESA                 object\n",
       "CNPJ_CPF                     object\n",
       "FORNECEDOR                   object\n",
       "DOCUMENTO                    object\n",
       "DATA                 datetime64[ns]\n",
       "DETALHAMENTO                 object\n",
       "VALOR_REEMBOLSADO           float64\n",
       "DAY                           int64\n",
       "dtype: object"
      ]
     },
     "execution_count": 20,
     "metadata": {},
     "output_type": "execute_result"
    }
   ],
   "source": [
    "# verficando se foi criado\n",
    "df.dtypes"
   ]
  },
  {
   "cell_type": "code",
   "execution_count": 21,
   "metadata": {},
   "outputs": [],
   "source": [
    "# salvando notebook para 'csv'\n",
    "df.to_csv('dados_limpos.csv',encoding = 'latin1',index = False)"
   ]
  }
 ],
 "metadata": {
  "kernelspec": {
   "display_name": "Python 3",
   "language": "python",
   "name": "python3"
  },
  "language_info": {
   "codemirror_mode": {
    "name": "ipython",
    "version": 3
   },
   "file_extension": ".py",
   "mimetype": "text/x-python",
   "name": "python",
   "nbconvert_exporter": "python",
   "pygments_lexer": "ipython3",
   "version": "3.6.5"
  }
 },
 "nbformat": 4,
 "nbformat_minor": 2
}
